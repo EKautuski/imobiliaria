{
 "cells": [
  {
   "cell_type": "code",
   "execution_count": 70,
   "metadata": {
    "collapsed": true,
    "pycharm": {
     "name": "#%%\n"
    }
   },
   "outputs": [],
   "source": [
    "from bs4 import BeautifulSoup\n",
    "import requests\n",
    "import re"
   ]
  },
  {
   "cell_type": "code",
   "execution_count": 71,
   "metadata": {
    "collapsed": false,
    "pycharm": {
     "name": "#%%\n"
    }
   },
   "outputs": [],
   "source": [
    "agent = {\"User-Agent\":\"Mozilla/5.0 (X11; Ubuntu; Linux x86_64; rv:104.0) Gecko/20100101 Firefox/104.0\"}"
   ]
  },
  {
   "cell_type": "code",
   "execution_count": 72,
   "metadata": {
    "collapsed": false,
    "pycharm": {
     "name": "#%%\n"
    }
   },
   "outputs": [],
   "source": [
    "def getLastPageVenda():\n",
    "    controle_certo = \"<h2>Não encontramos imóveis para a sua busca</h2>\"\n",
    "    controle = \"\"\n",
    "    pagina = 1\n",
    "    last_page = 0\n",
    "    while controle != controle_certo:\n",
    "        url = \"https://ectaimobiliaria.com.br/comprar/imoveis/guarapuava-pr?typeArea=total_area&floorComparision=equals&sort=is_price_shown%2Ccalculated_price%2Cid&offset=\" + str(pagina) + \"&limit=21\"\n",
    "\n",
    "        resposta = requests.get(url, headers=agent)\n",
    "        soup = BeautifulSoup(resposta.text, 'html')\n",
    "        controle = str(soup.h2)\n",
    "        pagina = pagina + 1\n",
    "        last_page = pagina - 2\n",
    "\n",
    "    return last_page"
   ]
  },
  {
   "cell_type": "code",
   "execution_count": 73,
   "metadata": {
    "collapsed": false,
    "pycharm": {
     "name": "#%%\n"
    }
   },
   "outputs": [],
   "source": [
    "def getLastPageAluguel():\n",
    "    controle_certo = \"<h2>Não encontramos imóveis para a sua busca</h2>\"\n",
    "    controle = \"\"\n",
    "    pagina = 1\n",
    "    last_page = 0\n",
    "    while controle != controle_certo:\n",
    "        url = \"https://ectaimobiliaria.com.br/alugar/imoveis/guarapuava-pr?sort=is_price_shown%2Ccalculated_price%2Cid&offset=1&limit=21&typeArea=total_area&floorComparision=equals&offset=\" + str(pagina)\n",
    "\n",
    "        resposta = requests.get(url, headers=agent)\n",
    "        soup = BeautifulSoup(resposta.text, 'html')\n",
    "        controle = str(soup.h2)\n",
    "        pagina = pagina + 1\n",
    "        last_page = pagina - 2\n",
    "\n",
    "    return last_page"
   ]
  },
  {
   "cell_type": "code",
   "execution_count": 74,
   "metadata": {
    "collapsed": false,
    "pycharm": {
     "name": "#%%\n"
    }
   },
   "outputs": [],
   "source": [
    "def getLinksAluguel():\n",
    "\n",
    "    imoveis_aluguel = []\n",
    "\n",
    "    for i in range(0,getLastPageAluguel() + 1):\n",
    "        url = \"https://ectaimobiliaria.com.br\"\n",
    "\n",
    "        resposta = requests.get(url, headers=agent)\n",
    "        soup = BeautifulSoup(resposta.text, 'html')\n",
    "\n",
    "        for link in soup.find_all('a', href = True):\n",
    "            if \"/imovel/\" in link['href']:\n",
    "                imoveis_aluguel.append(link['href'])\n",
    "\n",
    "    imoveis_aluguel = set(imoveis_aluguel)\n",
    "\n",
    "    return list(imoveis_aluguel)"
   ]
  },
  {
   "cell_type": "code",
   "execution_count": 75,
   "metadata": {
    "collapsed": false,
    "pycharm": {
     "name": "#%%\n"
    }
   },
   "outputs": [],
   "source": [
    "def getLinksVenda():\n",
    "\n",
    "    imoveis_venda = []\n",
    "\n",
    "    for i in range(0, 3):\n",
    "        url = \"https://ectaimobiliaria.com.br\"\n",
    "\n",
    "        resposta = requests.get(url, headers=agent)\n",
    "        soup = BeautifulSoup(resposta.text, 'html')\n",
    "\n",
    "        for link in soup.find_all('a', href = True):\n",
    "            if \"/imovel/\" in link['href']:\n",
    "                imoveis_venda.append(url + link['href'])\n",
    "\n",
    "    imoveis_venda = set(imoveis_venda)\n",
    "\n",
    "    return list(imoveis_venda)"
   ]
  },
  {
   "cell_type": "code",
   "execution_count": 76,
   "metadata": {
    "collapsed": false,
    "pycharm": {
     "name": "#%%\n"
    }
   },
   "outputs": [],
   "source": [
    "imoveis_venda = getLinksVenda()"
   ]
  },
  {
   "cell_type": "code",
   "execution_count": 77,
   "metadata": {
    "collapsed": false,
    "pycharm": {
     "name": "#%%\n"
    }
   },
   "outputs": [
    {
     "data": {
      "text/plain": [
       "['https://ectaimobiliaria.com.br/imovel/terreno-terreno-a-venda-em-guarapuava-pr/ECTA-4148-3',\n",
       " 'https://ectaimobiliaria.com.br/imovel/terreno-em-condominio-para-venda-em-boqueirao-guarapuava-pr/ECTA-4149-1',\n",
       " 'https://ectaimobiliaria.com.br/imovel/terreno-a-venda-no-bairro-industrial-em-guarapuava-pr/ECTA-4202-3',\n",
       " 'https://ectaimobiliaria.com.br/imovel/terreno-a-venda-no-bairro-santa-cruz-em-guarapuava-pr/ECTA-4090-1',\n",
       " 'https://ectaimobiliaria.com.br/imovel/apartamento-alto-padrao-para-venda-em-centro-guarapuava-pr/ECTA-4145-3',\n",
       " 'https://ectaimobiliaria.com.br/imovel/terreno-a-venda-no-bairro-mirante-da-torre-em-palmital-pr/ECTA-4093-1',\n",
       " 'https://ectaimobiliaria.com.br/imovel/apartamento-alto-padrao-a-venda-em-guarapuava-pr/ECTA-4135-2',\n",
       " 'https://ectaimobiliaria.com.br/imovel/terreno-terreno-a-venda-em-guarapuava-pr/ECTA-4146-9']"
      ]
     },
     "execution_count": 77,
     "metadata": {},
     "output_type": "execute_result"
    }
   ],
   "source": [
    "imoveis_venda"
   ]
  },
  {
   "cell_type": "code",
   "execution_count": 78,
   "metadata": {
    "collapsed": false,
    "pycharm": {
     "name": "#%%\n"
    }
   },
   "outputs": [
    {
     "data": {
      "text/plain": [
       "8"
      ]
     },
     "execution_count": 78,
     "metadata": {},
     "output_type": "execute_result"
    }
   ],
   "source": [
    "len(imoveis_venda)"
   ]
  },
  {
   "cell_type": "code",
   "execution_count": 79,
   "metadata": {
    "collapsed": false,
    "pycharm": {
     "name": "#%%\n"
    }
   },
   "outputs": [
    {
     "data": {
      "text/plain": [
       "'https://ectaimobiliaria.com.br/imovel/terreno-terreno-a-venda-em-guarapuava-pr/ECTA-4148-3'"
      ]
     },
     "execution_count": 79,
     "metadata": {},
     "output_type": "execute_result"
    }
   ],
   "source": [
    "list(imoveis_venda)[0]"
   ]
  },
  {
   "cell_type": "code",
   "execution_count": 80,
   "metadata": {
    "collapsed": false,
    "pycharm": {
     "name": "#%%\n"
    }
   },
   "outputs": [
    {
     "name": "stdout",
     "output_type": "stream",
     "text": [
      "[<span class=\"sc-1bci137-0 ebdJxD\">R$89.000,00</span>]\n",
      "[<section class=\"sc-1n21tt0-0 jzgiUr\"><h3 class=\"sc-1tduwi6-0 fiymFG\">Descrição do imóvel</h3><span class=\"sc-sbjl5d-0 ceyUbb\"><p>Uma ótima opção para você que busca investir em nossa cidade.</p><p><br/></p><p><em>As informações estão sujeitas a alterações. Consulte o corretor responsável.</em></p></span></section>, <section class=\"sc-1n21tt0-0 jzgiUr\" style=\"padding:15px 30px 15px 30px\"><h3 class=\"sc-1tduwi6-0 fiymFG\">Localização</h3><span class=\"sc-sbjl5d-0 ceyUbb\">Avenida Antônio Farah - Santana - Guarapuava/PR | Complemento: terreno<!-- --> <!-- -->- 85070-360</span><div class=\"sc-ua16xy-0 hGLDgS WrapperMaps\"></div></section>]\n",
      "[<div class=\"sc-3yq8nk-0 iKGrHj Side\" filter=\"[object Object]\"><section class=\"sc-14ho83o-0 jAMMEi\"><h3 class=\"sc-1lpddgt-0 gYglfb\">Ficha do imóvel</h3><div class=\"sc-p64o06-0 hcAPwC Line\"><span class=\"sc-rxhhrh-0 eLcLWU Line_title\">Perfil</span><span class=\"sc-rxhhrh-0 eLcLWU Line_value\">Residencial</span></div><div class=\"sc-p64o06-0 hcAPwC Line\"><span class=\"sc-rxhhrh-0 eLcLWU Line_title\">Situação</span><span class=\"sc-rxhhrh-0 eLcLWU Line_value\">Pronto para construir</span></div><div class=\"sc-p64o06-0 hcAPwC Line\"><span class=\"sc-rxhhrh-0 eLcLWU Line_title\">Escriturado</span><span class=\"sc-rxhhrh-0 eLcLWU Line_value\">Sim</span></div><div class=\"sc-p64o06-0 hcAPwC Line\"><span class=\"sc-rxhhrh-0 eLcLWU Line_title\">Área Total</span><span class=\"sc-rxhhrh-0 eLcLWU Line_value\">180m²</span></div><div class=\"sc-p64o06-0 hcAPwC Line\"><span class=\"sc-rxhhrh-0 eLcLWU Line_title\">Terreno Frente</span><span class=\"sc-rxhhrh-0 eLcLWU Line_value\">6m</span></div><div class=\"sc-p64o06-0 hcAPwC Line\"><span class=\"sc-rxhhrh-0 eLcLWU Line_title\">Terreno Direita</span><span class=\"sc-rxhhrh-0 eLcLWU Line_value\">30m</span></div></section></div>]\n"
     ]
    }
   ],
   "source": [
    "url = list(imoveis_venda)[0]\n",
    "resposta = requests.get(url, headers=agent)\n",
    "soup = BeautifulSoup(resposta.text, 'html')\n",
    "\n",
    "preco = soup.find_all('span',{'class':'sc-1bci137-0 ebdJxD'})\n",
    "\n",
    "informacoes  = soup.find_all('section', {'class':'sc-1n21tt0-0 jzgiUr'})\n",
    "\n",
    "informacoes2 = soup.find_all('div', {'class':'sc-3yq8nk-0 iKGrHj Side'})\n",
    "\n",
    "spans = soup.find_all('span')\n",
    "\n",
    "\n",
    "print(preco)\n",
    "print(informacoes)\n",
    "print(informacoes2)\n",
    "\n",
    "\n"
   ]
  },
  {
   "cell_type": "code",
   "execution_count": 81,
   "metadata": {
    "collapsed": false,
    "pycharm": {
     "name": "#%%\n"
    }
   },
   "outputs": [
    {
     "name": "stdout",
     "output_type": "stream",
     "text": [
      "[<span class=\"sc-1bci137-0 ebdJxD\">R$106.900,00</span>]\n",
      "[<section class=\"sc-1n21tt0-0 jzgiUr\"><h3 class=\"sc-1tduwi6-0 fiymFG\">Descrição do imóvel</h3><span class=\"sc-sbjl5d-0 ceyUbb\"><p>Infraestrutura de grandes centros, mas sem deixar de lado o contato com a natureza. Esse é o Residencial Vista do Vale, um novo empreendimento para quem quer morar com segurança, tranquilidade e muito verde. Condomínio fechado, com ruas pavimentadas, áreas de arborização planejadas, playground para as crianças, salão de festas e bosque com trilhas para o entretenimento: um investimento incrível para quem não abre mão da calmaria.</p><p><br/></p><p><strong><em>Terreno com área total a partir de 213,01 m² até 477,28 m². *</em></strong><em> Consulte disponibilidade</em></p><p><br/></p></span></section>, <section class=\"sc-1n21tt0-0 jzgiUr\" style=\"padding:15px 30px 15px 30px\"><h3 class=\"sc-1tduwi6-0 fiymFG\">Localização</h3><span class=\"sc-sbjl5d-0 ceyUbb\">Rua David Alves de Góes - Boqueirão - Guarapuava/PR<!-- --> </span><div class=\"sc-ua16xy-0 hGLDgS WrapperMaps\"></div></section>]\n",
      "[<div class=\"sc-3yq8nk-0 iKGrHj Side\" filter=\"[object Object]\"><section class=\"sc-14ho83o-0 jAMMEi\"><h3 class=\"sc-1lpddgt-0 gYglfb\">Ficha do imóvel</h3><div class=\"sc-p64o06-0 hcAPwC Line\"><span class=\"sc-rxhhrh-0 eLcLWU Line_title\">Perfil</span><span class=\"sc-rxhhrh-0 eLcLWU Line_value\">Residencial</span></div><div class=\"sc-p64o06-0 hcAPwC Line\"><span class=\"sc-rxhhrh-0 eLcLWU Line_title\">Situação</span><span class=\"sc-rxhhrh-0 eLcLWU Line_value\">Pronto para construir</span></div><div class=\"sc-p64o06-0 hcAPwC Line\"><span class=\"sc-rxhhrh-0 eLcLWU Line_title\">Área Total</span><span class=\"sc-rxhhrh-0 eLcLWU Line_value\">213m²</span></div></section></div>]\n",
      "[<div class=\"sc-3yq8nk-0 iKGrHj Side\" filter=\"[object Object]\"><section class=\"sc-14ho83o-0 jAMMEi\"><h3 class=\"sc-1lpddgt-0 gYglfb\">Ficha do imóvel</h3><div class=\"sc-p64o06-0 hcAPwC Line\"><span class=\"sc-rxhhrh-0 eLcLWU Line_title\">Perfil</span><span class=\"sc-rxhhrh-0 eLcLWU Line_value\">Residencial</span></div><div class=\"sc-p64o06-0 hcAPwC Line\"><span class=\"sc-rxhhrh-0 eLcLWU Line_title\">Situação</span><span class=\"sc-rxhhrh-0 eLcLWU Line_value\">Pronto para construir</span></div><div class=\"sc-p64o06-0 hcAPwC Line\"><span class=\"sc-rxhhrh-0 eLcLWU Line_title\">Área Total</span><span class=\"sc-rxhhrh-0 eLcLWU Line_value\">213m²</span></div></section></div>]\n"
     ]
    }
   ],
   "source": [
    "url = list(imoveis_venda)[1]\n",
    "resposta = requests.get(url, headers=agent)\n",
    "soup = BeautifulSoup(resposta.text, 'html')\n",
    "\n",
    "preco = soup.find_all('span',{'class':'sc-1bci137-0 ebdJxD'})\n",
    "\n",
    "informacoes  = soup.find_all('section', {'class':'sc-1n21tt0-0 jzgiUr'})\n",
    "\n",
    "informacoes2 = soup.find_all('div', {'class':'sc-3yq8nk-0 iKGrHj Side'})\n",
    "\n",
    "spans = soup.find_all('span')\n",
    "\n",
    "\n",
    "print(preco)\n",
    "print(informacoes)\n",
    "print(informacoes2)\n",
    "print(informacoes2)"
   ]
  },
  {
   "cell_type": "code",
   "execution_count": 82,
   "metadata": {
    "collapsed": false,
    "pycharm": {
     "name": "#%%\n"
    }
   },
   "outputs": [
    {
     "name": "stdout",
     "output_type": "stream",
     "text": [
      "[<span class=\"sc-1bci137-0 ebdJxD\">R$90.000,00</span>]\n",
      "[<section class=\"sc-1n21tt0-0 jzgiUr\"><h3 class=\"sc-1tduwi6-0 fiymFG\">Proximidades</h3><div class=\"sc-k214w6-1 hXJlPv\"><span class=\"sc-k214w6-0 cpJohX\">Escola</span><span class=\"sc-k214w6-0 cpJohX\">Shopping</span></div></section>, <section class=\"sc-1n21tt0-0 jzgiUr\"><h3 class=\"sc-1tduwi6-0 fiymFG\">Descrição do imóvel</h3><span class=\"sc-sbjl5d-0 ceyUbb\"><p><strong>Excelente terreno no Bairru das Cerejeiras;</strong></p><p><br/></p><p>Bairru das cerejeiras na quadra 40, lote 13;</p><p>Liberado para construção;</p><p><br/></p><p><strong>Área terreno 150m² (7,5mx20m)</strong></p><p><br/></p><p><strong>Valor: R$80.000,00</strong></p></span></section>, <section class=\"sc-1n21tt0-0 jzgiUr\" style=\"padding:15px 30px 15px 30px\"><h3 class=\"sc-1tduwi6-0 fiymFG\">Localização</h3><span class=\"sc-sbjl5d-0 ceyUbb\">Rua Miguel Losso - Industrial - Guarapuava/PR | Complemento: BAIRRU DAS CEREJEIRAS<!-- --> <!-- -->- 85053-170</span><div class=\"sc-ua16xy-0 hGLDgS WrapperMaps\"><div class=\"StaticMap Map\"><div class=\"WrapperMap\"><div class=\"sc-38dbu8-0 gCPLJI\" height=\"100%\"></div></div><div class=\"Circle\"></div></div></div></section>]\n",
      "[<div class=\"sc-3yq8nk-0 iKGrHj Side\" filter=\"[object Object]\"><section class=\"sc-14ho83o-0 jAMMEi\"><h3 class=\"sc-1lpddgt-0 gYglfb\">Ficha do imóvel</h3><div class=\"sc-p64o06-0 hcAPwC Line\"><span class=\"sc-rxhhrh-0 eLcLWU Line_title\">Perfil</span><span class=\"sc-rxhhrh-0 eLcLWU Line_value\">Residencial</span></div><div class=\"sc-p64o06-0 hcAPwC Line\"><span class=\"sc-rxhhrh-0 eLcLWU Line_title\">Situação</span><span class=\"sc-rxhhrh-0 eLcLWU Line_value\">Pronto para construir</span></div><div class=\"sc-p64o06-0 hcAPwC Line\"><span class=\"sc-rxhhrh-0 eLcLWU Line_title\">Tem Financiamento</span><span class=\"sc-rxhhrh-0 eLcLWU Line_value\">Sim</span></div><div class=\"sc-p64o06-0 hcAPwC Line\"><span class=\"sc-rxhhrh-0 eLcLWU Line_title\">Aceita Financiamento</span><span class=\"sc-rxhhrh-0 eLcLWU Line_value\">Sim</span></div><div class=\"sc-p64o06-0 hcAPwC Line\"><span class=\"sc-rxhhrh-0 eLcLWU Line_title\">Área Total</span><span class=\"sc-rxhhrh-0 eLcLWU Line_value\">150m²</span></div><div class=\"sc-p64o06-0 hcAPwC Line\"><span class=\"sc-rxhhrh-0 eLcLWU Line_title\">Terreno Frente</span><span class=\"sc-rxhhrh-0 eLcLWU Line_value\">7,20m</span></div><div class=\"sc-p64o06-0 hcAPwC Line\"><span class=\"sc-rxhhrh-0 eLcLWU Line_title\">Terreno Fundo</span><span class=\"sc-rxhhrh-0 eLcLWU Line_value\">7,50m</span></div><div class=\"sc-p64o06-0 hcAPwC Line\"><span class=\"sc-rxhhrh-0 eLcLWU Line_title\">Terreno Direita</span><span class=\"sc-rxhhrh-0 eLcLWU Line_value\">20m</span></div><div class=\"sc-p64o06-0 hcAPwC Line\"><span class=\"sc-rxhhrh-0 eLcLWU Line_title\">Terreno Esquerda</span><span class=\"sc-rxhhrh-0 eLcLWU Line_value\">20m</span></div></section></div>]\n"
     ]
    }
   ],
   "source": [
    "url = list(imoveis_venda)[2]\n",
    "resposta = requests.get(url, headers=agent)\n",
    "soup = BeautifulSoup(resposta.text, 'html')\n",
    "\n",
    "preco = soup.find_all('span',{'class':'sc-1bci137-0 ebdJxD'})\n",
    "\n",
    "informacoes  = soup.find_all('section', {'class':'sc-1n21tt0-0 jzgiUr'})\n",
    "\n",
    "informacoes2 = soup.find_all('div', {'class':'sc-3yq8nk-0 iKGrHj Side'})\n",
    "\n",
    "spans = soup.find_all('span')\n",
    "\n",
    "\n",
    "print(preco)\n",
    "print(informacoes)\n",
    "print(informacoes2)"
   ]
  },
  {
   "cell_type": "code",
   "execution_count": null,
   "metadata": {
    "collapsed": false,
    "pycharm": {
     "name": "#%%\n"
    }
   },
   "outputs": [],
   "source": []
  }
 ],
 "metadata": {
  "kernelspec": {
   "display_name": "Python 3.8.10 64-bit",
   "language": "python",
   "name": "python3"
  },
  "language_info": {
   "codemirror_mode": {
    "name": "ipython",
    "version": 3
   },
   "file_extension": ".py",
   "mimetype": "text/x-python",
   "name": "python",
   "nbconvert_exporter": "python",
   "pygments_lexer": "ipython3",
   "version": "3.8.10"
  },
  "vscode": {
   "interpreter": {
    "hash": "916dbcbb3f70747c44a77c7bcd40155683ae19c65e1c03b4aa3499c5328201f1"
   }
  }
 },
 "nbformat": 4,
 "nbformat_minor": 0
}
